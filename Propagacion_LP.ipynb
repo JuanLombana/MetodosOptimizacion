{
 "cells": [
  {
   "cell_type": "code",
   "execution_count": 56,
   "metadata": {},
   "outputs": [],
   "source": [
    "import numpy as np\n",
    "from scipy.optimize import linprog"
   ]
  },
  {
   "cell_type": "code",
   "execution_count": 255,
   "metadata": {},
   "outputs": [],
   "source": [
    "p = np.array([1,2,3]) #precios de las variedades.\n",
    "#B = np.array([[0,0,0],[0,0,0]]) #matriz binaria de camas por variedad sembrada.\n",
    "w = np.array([150,250,350,20,5,12,22,1000]) #capacidad de siembra de los bancos.\n",
    "v = np.array([100,350,1]) # cantidades de variedades disponibles para sembrar.\n",
    "n = v.shape[0] #Cantidad de variedades.\n",
    "m = w.shape[0] #Cantidad de camas.\n",
    "L=np.array([[0,0,0]]) #Restricciones de NO compatibilidad por variedad."
   ]
  },
  {
   "cell_type": "code",
   "execution_count": 258,
   "metadata": {},
   "outputs": [
    {
     "data": {
      "text/plain": [
       "True"
      ]
     },
     "execution_count": 258,
     "metadata": {},
     "output_type": "execute_result"
    }
   ],
   "source": [
    "p.shape[0]==n and w.shape[0]==m and v.shape[0]==n and L.shape[1]==n"
   ]
  },
  {
   "cell_type": "markdown",
   "metadata": {},
   "source": [
    "## Convertir el problema en un problema de programación lineal"
   ]
  },
  {
   "cell_type": "markdown",
   "metadata": {},
   "source": [
    "Se multiplica los coeficientes de los precios para que queden negativos pues el promebla original es de maximización "
   ]
  },
  {
   "cell_type": "code",
   "execution_count": 259,
   "metadata": {},
   "outputs": [
    {
     "data": {
      "text/plain": [
       "array([-1, -2, -3, -1, -2, -3, -1, -2, -3, -1, -2, -3, -1, -2, -3, -1, -2,\n",
       "       -3, -1, -2, -3, -1, -2, -3])"
      ]
     },
     "execution_count": 259,
     "metadata": {},
     "output_type": "execute_result"
    }
   ],
   "source": [
    "c=np.tile(-p,m)\n",
    "c"
   ]
  },
  {
   "cell_type": "markdown",
   "metadata": {},
   "source": [
    "Restricciones asociadas a la capacidad de los bancos para la siembra"
   ]
  },
  {
   "cell_type": "code",
   "execution_count": 260,
   "metadata": {},
   "outputs": [
    {
     "data": {
      "text/plain": [
       "array([[ -150,  -150,  -150,  -250,  -250,  -250,  -350,  -350,  -350,\n",
       "          -20,   -20,   -20,    -5,    -5,    -5,   -12,   -12,   -12,\n",
       "          -22,   -22,   -22, -1000, -1000, -1000]])"
      ]
     },
     "execution_count": 260,
     "metadata": {},
     "output_type": "execute_result"
    }
   ],
   "source": [
    "A = np.repeat(-w,n).reshape(-1,1).T # Restricción de siembra\n",
    "A"
   ]
  },
  {
   "cell_type": "code",
   "execution_count": 266,
   "metadata": {},
   "outputs": [
    {
     "data": {
      "text/plain": [
       "array(451)"
      ]
     },
     "execution_count": 266,
     "metadata": {},
     "output_type": "execute_result"
    }
   ],
   "source": [
    "b = np.array(v.sum()) #Maximo de esquejes a sembrar\n",
    "b"
   ]
  },
  {
   "cell_type": "markdown",
   "metadata": {},
   "source": [
    "Restricciones de igualdad asociadas a que solo se puede sembrar una variedad por cama"
   ]
  },
  {
   "cell_type": "code",
   "execution_count": 262,
   "metadata": {},
   "outputs": [
    {
     "data": {
      "text/plain": [
       "array([[1., 1., 1., 0., 0., 0., 0., 0., 0., 0., 0., 0., 0., 0., 0., 0.,\n",
       "        0., 0., 0., 0., 0., 0., 0., 0.],\n",
       "       [0., 0., 0., 1., 1., 1., 0., 0., 0., 0., 0., 0., 0., 0., 0., 0.,\n",
       "        0., 0., 0., 0., 0., 0., 0., 0.],\n",
       "       [0., 0., 0., 0., 0., 0., 1., 1., 1., 0., 0., 0., 0., 0., 0., 0.,\n",
       "        0., 0., 0., 0., 0., 0., 0., 0.],\n",
       "       [0., 0., 0., 0., 0., 0., 0., 0., 0., 1., 1., 1., 0., 0., 0., 0.,\n",
       "        0., 0., 0., 0., 0., 0., 0., 0.],\n",
       "       [0., 0., 0., 0., 0., 0., 0., 0., 0., 0., 0., 0., 1., 1., 1., 0.,\n",
       "        0., 0., 0., 0., 0., 0., 0., 0.],\n",
       "       [0., 0., 0., 0., 0., 0., 0., 0., 0., 0., 0., 0., 0., 0., 0., 1.,\n",
       "        1., 1., 0., 0., 0., 0., 0., 0.],\n",
       "       [0., 0., 0., 0., 0., 0., 0., 0., 0., 0., 0., 0., 0., 0., 0., 0.,\n",
       "        0., 0., 1., 1., 1., 0., 0., 0.],\n",
       "       [0., 0., 0., 0., 0., 0., 0., 0., 0., 0., 0., 0., 0., 0., 0., 0.,\n",
       "        0., 0., 0., 0., 0., 1., 1., 1.],\n",
       "       [0., 0., 0., 0., 0., 0., 0., 0., 0., 0., 0., 0., 0., 0., 0., 0.,\n",
       "        0., 0., 0., 0., 0., 0., 0., 0.]])"
      ]
     },
     "execution_count": 262,
     "metadata": {},
     "output_type": "execute_result"
    }
   ],
   "source": [
    "Aeq=np.zeros((m+L.shape[0],n*m))\n",
    "for i in np.arange(0,m): #Se crea un restricción por cama.\n",
    "    p1 = np.zeros(i*n) #Cantidad de ceros adelante segun el indice de la cama\n",
    "    p2 = np.ones(n) #Cantidad de unos que representan la restriccion\n",
    "    p3 = np.zeros(((m*n)-((i*n)+n))) #cantidad de ceros al final\n",
    "    r = np.concatenate((p1,p2,p3))\n",
    "    Aeq[i]=r\n",
    "    \n",
    "Aeq[m:]=np.tile(L,m) #Restricciones de NO compatibilidad de flor\n",
    "Aeq"
   ]
  },
  {
   "cell_type": "code",
   "execution_count": 263,
   "metadata": {},
   "outputs": [
    {
     "data": {
      "text/plain": [
       "array([1., 1., 1., 1., 1., 1., 1., 1., 0.])"
      ]
     },
     "execution_count": 263,
     "metadata": {},
     "output_type": "execute_result"
    }
   ],
   "source": [
    "beq = np.zeros(m+L.shape[0])\n",
    "beq[:m]=np.ones(m)\n",
    "beq"
   ]
  },
  {
   "cell_type": "code",
   "execution_count": 264,
   "metadata": {},
   "outputs": [
    {
     "data": {
      "text/plain": [
       "     con: array([-1.85740312e-12, -1.85895743e-12, -1.85762516e-12, -1.85762516e-12,\n",
       "       -1.85695903e-12, -1.85740312e-12, -1.85740312e-12, -1.85762516e-12,\n",
       "        0.00000000e+00])\n",
       "     fun: -23.99999999925795\n",
       " message: 'Optimization terminated successfully.'\n",
       "     nit: 7\n",
       "   slack: array([2260.])\n",
       "  status: 0\n",
       " success: True\n",
       "       x: array([4.86106630e-11, 1.10779831e-12, 1.00000000e+00, 4.86107002e-11,\n",
       "       1.10785379e-12, 1.00000000e+00, 4.86106895e-11, 1.10789036e-12,\n",
       "       1.00000000e+00, 4.86106909e-11, 1.10799079e-12, 1.00000000e+00,\n",
       "       4.86106590e-11, 1.10798718e-12, 1.00000000e+00, 4.86106771e-11,\n",
       "       1.10799396e-12, 1.00000000e+00, 4.86106699e-11, 1.10797521e-12,\n",
       "       1.00000000e+00, 4.86105898e-11, 1.10746373e-12, 1.00000000e+00])"
      ]
     },
     "execution_count": 264,
     "metadata": {},
     "output_type": "execute_result"
    }
   ],
   "source": [
    "res = linprog(c,A_ub=A,b_ub=b,A_eq=Aeq,b_eq=beq,bounds=(0,1))\n",
    "res"
   ]
  },
  {
   "cell_type": "code",
   "execution_count": 265,
   "metadata": {},
   "outputs": [
    {
     "data": {
      "text/plain": [
       "array([[4.86106630e-11, 1.10779831e-12, 1.00000000e+00],\n",
       "       [4.86107002e-11, 1.10785379e-12, 1.00000000e+00],\n",
       "       [4.86106895e-11, 1.10789036e-12, 1.00000000e+00],\n",
       "       [4.86106909e-11, 1.10799079e-12, 1.00000000e+00],\n",
       "       [4.86106590e-11, 1.10798718e-12, 1.00000000e+00],\n",
       "       [4.86106771e-11, 1.10799396e-12, 1.00000000e+00],\n",
       "       [4.86106699e-11, 1.10797521e-12, 1.00000000e+00],\n",
       "       [4.86105898e-11, 1.10746373e-12, 1.00000000e+00]])"
      ]
     },
     "execution_count": 265,
     "metadata": {},
     "output_type": "execute_result"
    }
   ],
   "source": [
    "res.x.reshape(m,n)"
   ]
  },
  {
   "cell_type": "code",
   "execution_count": null,
   "metadata": {},
   "outputs": [],
   "source": []
  }
 ],
 "metadata": {
  "kernelspec": {
   "display_name": "Python 3",
   "language": "python",
   "name": "python3"
  },
  "language_info": {
   "codemirror_mode": {
    "name": "ipython",
    "version": 3
   },
   "file_extension": ".py",
   "mimetype": "text/x-python",
   "name": "python",
   "nbconvert_exporter": "python",
   "pygments_lexer": "ipython3",
   "version": "3.7.4"
  }
 },
 "nbformat": 4,
 "nbformat_minor": 2
}
