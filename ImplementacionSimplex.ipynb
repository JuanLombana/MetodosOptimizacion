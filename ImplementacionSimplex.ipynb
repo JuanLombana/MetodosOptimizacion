{
 "cells": [
  {
   "cell_type": "code",
   "execution_count": 1,
   "metadata": {},
   "outputs": [],
   "source": [
    "import numpy as np\n",
    "import numpy.linalg as npl"
   ]
  },
  {
   "cell_type": "code",
   "execution_count": 2,
   "metadata": {},
   "outputs": [],
   "source": [
    "c=np.array([[-20],[-30],[0],[0]])\n",
    "A = np.array([[1,1,1,0],[0.1,0.2,0,1]])\n",
    "b = np.array([[100],[14]])\n",
    "\n",
    "sbfi = np.array([False,False,True,True])"
   ]
  },
  {
   "cell_type": "markdown",
   "metadata": {},
   "source": [
    "## Iteracion 1"
   ]
  },
  {
   "cell_type": "code",
   "execution_count": 3,
   "metadata": {},
   "outputs": [
    {
     "name": "stdout",
     "output_type": "stream",
     "text": [
      "cB: [[0 0]]\n",
      "cN: [[-20 -30]]\n",
      "B: \n",
      "[[1. 0.]\n",
      " [0. 1.]]\n",
      "N: \n",
      "[[1.  1. ]\n",
      " [0.1 0.2]]\n",
      "pT: \n",
      "[[-20. -30.]]\n",
      "Neg: 2\n",
      "Col N:1\n",
      "Col B:1\n",
      "new B: \n",
      "[[1.  1. ]\n",
      " [0.  0.2]]\n",
      "new N: \n",
      "[[1.  0. ]\n",
      " [0.1 1. ]]\n"
     ]
    }
   ],
   "source": [
    "sbf = sbfi\n",
    "r=(sbf==False)\n",
    "B = np.copy(A[:,sbf])\n",
    "N = np.copy(A[:,r])\n",
    "cB=np.copy(c[sbf])\n",
    "print('cB: ' + str(cB.T))\n",
    "cN =np.copy(c[r])\n",
    "print('cN: ' + str(cN.T))\n",
    "BInv=npl.inv(B)\n",
    "pT=cN.T-np.dot(cB.T,np.matmul(BInv,N))\n",
    "index_sbf = np.argwhere(sbf).T[0]\n",
    "index_r = np.argwhere(r).T[0]\n",
    "xb = np.dot(BInv,b)\n",
    "colN=np.argmin(pT)\n",
    "y = np.dot(BInv,N[:,colN])\n",
    "colB = np.argmin(xb.T[0]/y)\n",
    "print('B: \\r\\n'+str(B))\n",
    "print('N: \\r\\n'+str(N))\n",
    "print('pT: \\r\\n' + str(pT))\n",
    "print('Neg: ' + str(len(pT[pT<0])))\n",
    "print('Col N:' + str(colN))\n",
    "print('Col B:' + str(colB))\n",
    "newB = np.copy(B)\n",
    "newB[:,colB] = N[:,colN]\n",
    "newN = np.copy(N)\n",
    "newN[:,colN] = B[:,colB]\n",
    "print('new B: \\r\\n'+str(newB))\n",
    "print('new N: \\r\\n'+str(newN))"
   ]
  },
  {
   "cell_type": "markdown",
   "metadata": {},
   "source": [
    "## Iteracion 2"
   ]
  },
  {
   "cell_type": "code",
   "execution_count": 5,
   "metadata": {},
   "outputs": [
    {
     "name": "stdout",
     "output_type": "stream",
     "text": [
      "cB: [[-20 -30]]\n",
      "cN: [[0 0]]\n",
      "B: \n",
      "[[1.  1. ]\n",
      " [0.1 0.2]]\n",
      "N: \n",
      "[[1. 0.]\n",
      " [0. 1.]]\n",
      "pT: \n",
      "[[ 10. 100.]]\n",
      "Neg: 0\n",
      "Col N:0\n",
      "Col B:1\n",
      "new B: \n",
      "[[1.  1. ]\n",
      " [0.1 0. ]]\n",
      "new N: \n",
      "[[1.  0. ]\n",
      " [0.2 1. ]]\n"
     ]
    }
   ],
   "source": [
    "sbf[index_r[colN]]=True\n",
    "sbf[index_sbf[colB]]=False\n",
    "r=(sbf==False)\n",
    "B = np.copy(newB)\n",
    "N = np.copy(newN)\n",
    "new_cB = np.copy(cB)\n",
    "new_cB[colB,0]= cN[colN,0]\n",
    "new_cN = np.copy(cN)\n",
    "new_cN[colN,0]= cB[colB,0]\n",
    "cB = np.copy(new_cB)\n",
    "cN = np.copy(new_cN)\n",
    "print('cB: ' + str(cB.T))\n",
    "print('cN: ' + str(cN.T))\n",
    "BInv=npl.inv(B)\n",
    "pT=cN.T-np.dot(cB.T,np.matmul(BInv,N))\n",
    "index_sbf = np.argwhere(sbf).T[0]\n",
    "index_r = np.argwhere(r).T[0]\n",
    "xb = np.dot(BInv,b)\n",
    "print('xb: '+str(xb))\n",
    "colN=np.argmin(pT)\n",
    "y = np.dot(BInv,N[:,colN])\n",
    "colB = np.argmin(xb.T[0]/y)\n",
    "print('B: \\r\\n'+str(B))\n",
    "print('N: \\r\\n'+str(N))\n",
    "print('pT: \\r\\n' + str(pT))\n",
    "print('Neg: ' + str(len(pT[pT<0])))\n",
    "print('Col N:' + str(colN))\n",
    "print('Col B:' + str(colB))\n",
    "newB = np.copy(B)\n",
    "newB[:,colB] = N[:,colN]\n",
    "newN = np.copy(N)\n",
    "newN[:,colN] = B[:,colB]\n",
    "print('new B: \\r\\n'+str(newB))\n",
    "print('new N: \\r\\n'+str(newN))"
   ]
  },
  {
   "cell_type": "code",
   "execution_count": 6,
   "metadata": {},
   "outputs": [
    {
     "data": {
      "text/plain": [
       "array([[60.],\n",
       "       [40.]])"
      ]
     },
     "execution_count": 6,
     "metadata": {},
     "output_type": "execute_result"
    }
   ],
   "source": [
    "xb"
   ]
  },
  {
   "cell_type": "code",
   "execution_count": null,
   "metadata": {},
   "outputs": [],
   "source": []
  }
 ],
 "metadata": {
  "kernelspec": {
   "display_name": "Python 3",
   "language": "python",
   "name": "python3"
  },
  "language_info": {
   "codemirror_mode": {
    "name": "ipython",
    "version": 3
   },
   "file_extension": ".py",
   "mimetype": "text/x-python",
   "name": "python",
   "nbconvert_exporter": "python",
   "pygments_lexer": "ipython3",
   "version": "3.7.4"
  }
 },
 "nbformat": 4,
 "nbformat_minor": 2
}
