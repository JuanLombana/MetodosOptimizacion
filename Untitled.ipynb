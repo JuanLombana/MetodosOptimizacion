{
 "cells": [
  {
   "cell_type": "code",
   "execution_count": 20,
   "metadata": {},
   "outputs": [],
   "source": [
    "import configparser"
   ]
  },
  {
   "cell_type": "code",
   "execution_count": 21,
   "metadata": {},
   "outputs": [],
   "source": [
    "par = configparser.ConfigParser()"
   ]
  },
  {
   "cell_type": "code",
   "execution_count": 22,
   "metadata": {},
   "outputs": [
    {
     "data": {
      "text/plain": [
       "['routineValidator.properties']"
      ]
     },
     "execution_count": 22,
     "metadata": {},
     "output_type": "execute_result"
    }
   ],
   "source": [
    "par.read('routineValidator.properties')"
   ]
  },
  {
   "cell_type": "code",
   "execution_count": 23,
   "metadata": {},
   "outputs": [
    {
     "data": {
      "text/plain": [
       "['GLOBAL']"
      ]
     },
     "execution_count": 23,
     "metadata": {},
     "output_type": "execute_result"
    }
   ],
   "source": [
    "par.sections()"
   ]
  },
  {
   "cell_type": "code",
   "execution_count": 24,
   "metadata": {},
   "outputs": [
    {
     "data": {
      "text/plain": [
       "[('whenslimit', '20'),\n",
       " ('insertlimit', '0'),\n",
       " ('selectalltlimit', '0'),\n",
       " ('selectalltpointlimit', '0'),\n",
       " ('selectainsideparenthesislimit', '0'),\n",
       " ('withslimit', '7'),\n",
       " ('joinslimit', '7'),\n",
       " ('unionslimit', '10'),\n",
       " ('partitionlimit', '0'),\n",
       " ('caseslimit', '50'),\n",
       " ('mappingtypebadquerys',\n",
       "  \"{'SelectaInsideParenthesisLimit':'LIMIT_SELECT_IN','selectalltpointlimit':'LIMIT_SELECT_POINT_ALL','Selectalltlimit':'LIMIT_SELECT_ALL','InsertsLimit':'LIMIT_INSERTS','JoinsLimit':'LIMIT_JOINS','UnionsLimit':'LIMIT_UNIONS','WhensLimit':'LIMIT_WHEN','WithLimit':'LIMIT_WITH','PartitionLimit':'WITHOUT_PARTITION','CasesLimit':'LIMIT_CASE'}\"),\n",
       " ('patternextractsegment',\n",
       "  'from ,inner join ,left join ,right join ,left outer join ,right outer join ,full outer join ,cross join ,left anti join ,right anti join , where'),\n",
       " ('patternvalidatesegment', 'year'),\n",
       " ('databasesraw',\n",
       "  's_apoyo_corporativo,s_apoyo_financiero,s_bam_apoyo_corporativo,s_bam_apoyo_financiero,s_bam_canales,s_bam_clientes,s_bam_productos,s_bana_apoyo_corporativo,s_bana_apoyo_financiero,s_bana_canales,s_bana_clientes,s_bana_productos,s_bani_apoyo_corporativo,s_bani_apoyo_financiero,s_bani_canales,s_bani_clientes,s_bani_productos,s_canales,s_clientes,s_informacion,s_integracion,s_productos'),\n",
       " ('unilinecomment', '--[^\\\\n]*\\\\n'),\n",
       " ('multilinecomment',\n",
       "  '(?<=\\\\/\\\\*)(.*)(?=\\\\*\\\\/)|(?<=\\\\/\\\\*)([\\\\s\\\\S]*?)(?=\\\\*\\\\/)'),\n",
       " ('singlequotedtext', '\"([\\'])(?:(?=(\\\\\\\\?))\\\\2.)*?\\\\1\"'),\n",
       " ('doublequotedtext', '\\'([\"])(?:(?=(\\\\\\\\?))\\\\2.)*?\\\\1\\''),\n",
       " ('whenregex', '(?<=case)(.*?)(?=end as)'),\n",
       " ('selectpointall', '.*'),\n",
       " ('selectallregex', '(?<=select)(.*?)(?=from)'),\n",
       " ('selectinsideparenthesisregex',\n",
       "  '([\\\\(]?in\\\\s\\\\([\\\\s\\\\w\\\\n\\\\,\\\\*\\\\singleQuote\\\\doubleQuote\\\\+\\\\-\\\\%\\\\.\\\\t]*select)')]"
      ]
     },
     "execution_count": 24,
     "metadata": {},
     "output_type": "execute_result"
    }
   ],
   "source": [
    "par.items('GLOBAL')"
   ]
  },
  {
   "cell_type": "code",
   "execution_count": null,
   "metadata": {},
   "outputs": [],
   "source": []
  }
 ],
 "metadata": {
  "kernelspec": {
   "display_name": "Python 3",
   "language": "python",
   "name": "python3"
  },
  "language_info": {
   "codemirror_mode": {
    "name": "ipython",
    "version": 3
   },
   "file_extension": ".py",
   "mimetype": "text/x-python",
   "name": "python",
   "nbconvert_exporter": "python",
   "pygments_lexer": "ipython3",
   "version": "3.7.4"
  }
 },
 "nbformat": 4,
 "nbformat_minor": 4
}
