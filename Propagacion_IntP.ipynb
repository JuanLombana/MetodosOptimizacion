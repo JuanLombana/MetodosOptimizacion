{
 "cells": [
  {
   "cell_type": "code",
   "execution_count": 2,
   "metadata": {},
   "outputs": [
    {
     "name": "stdout",
     "output_type": "stream",
     "text": [
      "Collecting pulp\n",
      "  Downloading https://files.pythonhosted.org/packages/fb/34/ff5915ff6bae91cfb7c4cc22c3c369a6aea0b2127045dd5f308a91c260ac/PuLP-2.0-py3-none-any.whl (39.2MB)\n",
      "Requirement already satisfied: pyparsing>=2.0.1 in c:\\users\\juanlombana\\anaconda3\\lib\\site-packages (from pulp) (2.4.2)\n",
      "Installing collected packages: pulp\n",
      "Successfully installed pulp-2.0\n"
     ]
    }
   ],
   "source": [
    "!pip install pulp"
   ]
  },
  {
   "cell_type": "code",
   "execution_count": 4,
   "metadata": {},
   "outputs": [],
   "source": [
    "import pulp as op\n",
    "import numpy as np"
   ]
  },
  {
   "cell_type": "code",
   "execution_count": 2,
   "metadata": {},
   "outputs": [],
   "source": [
    "p = np.array([1,2,3]) #precios de las variedades.\n",
    "#B = np.array([[0,0,0],[0,0,0]]) #matriz binaria de camas por variedad sembrada.\n",
    "w = np.array([150,250,350,20,5,12,22,1000]) #capacidad de siembra de los bancos.\n",
    "v = np.array([100,350,1]) # cantidades de variedades disponibles para sembrar.\n",
    "n = v.shape[0] #Cantidad de variedades.\n",
    "m = w.shape[0] #Cantidad de camas.\n",
    "L=np.array([[0,0,0]]) #Restricciones de NO compatibilidad por variedad."
   ]
  },
  {
   "cell_type": "code",
   "execution_count": 34,
   "metadata": {},
   "outputs": [],
   "source": [
    "concat = lambda t,e : str(t)+str(e)\n",
    "beds = [concat(xt,xe) for xt,xe in zip(np.repeat(['Bed'],m*n),np.repeat(np.arange(1,m+1),n))]\n",
    "varieties = [concat(xt,xe) for xt,xe in zip(np.repeat(['_Var'],m*n),np.tile(np.arange(1,n+1),m))]\n",
    "bedsXvars = [concat(xt,xe) for xt,xe in zip(beds,varieties)]\n",
    "c=dict(zip(bedsXvars, np.tile(-p,m)))\n",
    "A=dict(zip(bedsXvars,np.repeat(w,n)))"
   ]
  },
  {
   "cell_type": "code",
   "execution_count": 35,
   "metadata": {},
   "outputs": [],
   "source": [
    "prob = op.LpProblem(\"Plannting_plan\",op.LpMinimize)\n",
    "beds=op.LpVariable.dicts(\"BedsVar\",bedsXvars,lowBound=0,upBound=1,cat='Integer')\n",
    "prob += op.lpSum([c[i]*beds[i] for i in bedsXvars]) # Función de Costo, Precio de la variedad * X\n",
    "prob +=op.lpSum([A[i]*beds[i] for i in bedsXvars])>=v.sum()\n"
   ]
  },
  {
   "cell_type": "code",
   "execution_count": null,
   "metadata": {},
   "outputs": [],
   "source": [
    "\n",
    "for i in np.arange(0,m): #Se crea un restricción por cama.\n",
    "    p1 = np.zeros(i*n) #Cantidad de ceros adelante segun el indice de la cama\n",
    "    p2 = np.ones(n) #Cantidad de unos que representan la restriccion\n",
    "    p3 = np.zeros(((m*n)-((i*n)+n))) #cantidad de ceros al final\n",
    "    r = dict(zip(bedsXvars,np.concatenate((p1,p2,p3))))\n",
    "\n",
    "prob +=op.lpSum([A[i]*beds[i] for i in bedsXvars])>=v.sum()\n",
    "    \n",
    "Aeq[m:]=np.tile(L,m) #Restricciones de NO compatibilidad de flor\n",
    "\n",
    "\n",
    "beq = np.zeros(m+L.shape[0])\n",
    "beq[:m]=np.ones(m)\n",
    "beq\n"
   ]
  },
  {
   "cell_type": "code",
   "execution_count": 37,
   "metadata": {},
   "outputs": [
    {
     "name": "stdout",
     "output_type": "stream",
     "text": [
      "Status:  Optimal\n",
      "BedsVar_Bed1_Var1 = 1.0\n",
      "BedsVar_Bed1_Var2 = 1.0\n",
      "BedsVar_Bed1_Var3 = 1.0\n",
      "BedsVar_Bed2_Var1 = 1.0\n",
      "BedsVar_Bed2_Var2 = 1.0\n",
      "BedsVar_Bed2_Var3 = 1.0\n",
      "BedsVar_Bed3_Var1 = 1.0\n",
      "BedsVar_Bed3_Var2 = 1.0\n",
      "BedsVar_Bed3_Var3 = 1.0\n",
      "BedsVar_Bed4_Var1 = 1.0\n",
      "BedsVar_Bed4_Var2 = 1.0\n",
      "BedsVar_Bed4_Var3 = 1.0\n",
      "BedsVar_Bed5_Var1 = 1.0\n",
      "BedsVar_Bed5_Var2 = 1.0\n",
      "BedsVar_Bed5_Var3 = 1.0\n",
      "BedsVar_Bed6_Var1 = 1.0\n",
      "BedsVar_Bed6_Var2 = 1.0\n",
      "BedsVar_Bed6_Var3 = 1.0\n",
      "BedsVar_Bed7_Var1 = 1.0\n",
      "BedsVar_Bed7_Var2 = 1.0\n",
      "BedsVar_Bed7_Var3 = 1.0\n",
      "BedsVar_Bed8_Var1 = 1.0\n",
      "BedsVar_Bed8_Var2 = 1.0\n",
      "BedsVar_Bed8_Var3 = 1.0\n"
     ]
    }
   ],
   "source": [
    "prob.solve()\n",
    "print(\"Status: \",op.LpStatus[prob.status])\n",
    "for v in prob.variables():\n",
    "    if v.varValue>0:\n",
    "        print(v.name, \"=\", v.varValue)"
   ]
  },
  {
   "cell_type": "code",
   "execution_count": null,
   "metadata": {},
   "outputs": [],
   "source": []
  }
 ],
 "metadata": {
  "kernelspec": {
   "display_name": "Python 3",
   "language": "python",
   "name": "python3"
  },
  "language_info": {
   "codemirror_mode": {
    "name": "ipython",
    "version": 3
   },
   "file_extension": ".py",
   "mimetype": "text/x-python",
   "name": "python",
   "nbconvert_exporter": "python",
   "pygments_lexer": "ipython3",
   "version": "3.7.4"
  }
 },
 "nbformat": 4,
 "nbformat_minor": 2
}
