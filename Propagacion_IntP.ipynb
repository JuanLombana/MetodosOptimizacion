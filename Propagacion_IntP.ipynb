{
 "cells": [
  {
   "cell_type": "code",
   "execution_count": 2,
   "metadata": {},
   "outputs": [
    {
     "name": "stdout",
     "output_type": "stream",
     "text": [
      "Collecting pulp\n",
      "  Downloading https://files.pythonhosted.org/packages/fb/34/ff5915ff6bae91cfb7c4cc22c3c369a6aea0b2127045dd5f308a91c260ac/PuLP-2.0-py3-none-any.whl (39.2MB)\n",
      "Requirement already satisfied: pyparsing>=2.0.1 in c:\\users\\juanlombana\\anaconda3\\lib\\site-packages (from pulp) (2.4.2)\n",
      "Installing collected packages: pulp\n",
      "Successfully installed pulp-2.0\n"
     ]
    }
   ],
   "source": [
    "!pip install pulp"
   ]
  },
  {
   "cell_type": "code",
   "execution_count": 4,
   "metadata": {},
   "outputs": [],
   "source": [
    "import pulp as op\n",
    "import numpy as np"
   ]
  },
  {
   "cell_type": "code",
   "execution_count": 5,
   "metadata": {},
   "outputs": [],
   "source": [
    "p = np.array([1,2,3]) #precios de las variedades.\n",
    "#B = np.array([[0,0,0],[0,0,0]]) #matriz binaria de camas por variedad sembrada.\n",
    "w = np.array([150,250,350,20,5,12,22,1000]) #capacidad de siembra de los bancos.\n",
    "v = np.array([100,350,1]) # cantidades de variedades disponibles para sembrar.\n",
    "n = v.shape[0] #Cantidad de variedades.\n",
    "m = w.shape[0] #Cantidad de camas.\n",
    "L=np.array([[0,0,0]]) #Restricciones de NO compatibilidad por variedad."
   ]
  },
  {
   "cell_type": "code",
   "execution_count": 15,
   "metadata": {},
   "outputs": [
    {
     "data": {
      "text/plain": [
       "['BancoVar1',\n",
       " 'BancoVar2',\n",
       " 'BancoVar3',\n",
       " 'BancoVar4',\n",
       " 'BancoVar5',\n",
       " 'BancoVar6',\n",
       " 'BancoVar7',\n",
       " 'BancoVar1',\n",
       " 'BancoVar2',\n",
       " 'BancoVar3',\n",
       " 'BancoVar4',\n",
       " 'BancoVar5',\n",
       " 'BancoVar6',\n",
       " 'BancoVar7',\n",
       " 'BancoVar1',\n",
       " 'BancoVar2',\n",
       " 'BancoVar3',\n",
       " 'BancoVar4',\n",
       " 'BancoVar5',\n",
       " 'BancoVar6',\n",
       " 'BancoVar7']"
      ]
     },
     "execution_count": 15,
     "metadata": {},
     "output_type": "execute_result"
    }
   ],
   "source": [
    "conca = lambda t,e : str(t)+str(e)\n",
    "bedsvars_items = list([conca(xt,xe) for xt,xe in zip(np.repeat(['BancoVar'],m*n),np.tile(np.arange(1,m),n))])\n",
    "bedsvars_items"
   ]
  },
  {
   "cell_type": "code",
   "execution_count": null,
   "metadata": {},
   "outputs": [],
   "source": [
    "prop = op.LpProblem(\"Siembra Esquejes\",op.LpMinimize)\n",
    "beds=op.LpVariable(\"BedsVar\",bedsvars_items,lowBound=0,upBound=1,cat='Integer')"
   ]
  }
 ],
 "metadata": {
  "kernelspec": {
   "display_name": "Python 3",
   "language": "python",
   "name": "python3"
  },
  "language_info": {
   "codemirror_mode": {
    "name": "ipython",
    "version": 3
   },
   "file_extension": ".py",
   "mimetype": "text/x-python",
   "name": "python",
   "nbconvert_exporter": "python",
   "pygments_lexer": "ipython3",
   "version": "3.7.4"
  }
 },
 "nbformat": 4,
 "nbformat_minor": 2
}
