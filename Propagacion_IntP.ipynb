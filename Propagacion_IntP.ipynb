{
 "cells": [
  {
   "cell_type": "code",
   "execution_count": 2,
   "metadata": {},
   "outputs": [
    {
     "name": "stdout",
     "output_type": "stream",
     "text": [
      "Collecting pulp\n",
      "  Downloading https://files.pythonhosted.org/packages/fb/34/ff5915ff6bae91cfb7c4cc22c3c369a6aea0b2127045dd5f308a91c260ac/PuLP-2.0-py3-none-any.whl (39.2MB)\n",
      "Requirement already satisfied: pyparsing>=2.0.1 in c:\\users\\juanlombana\\anaconda3\\lib\\site-packages (from pulp) (2.4.2)\n",
      "Installing collected packages: pulp\n",
      "Successfully installed pulp-2.0\n"
     ]
    }
   ],
   "source": [
    "!pip install pulp"
   ]
  },
  {
   "cell_type": "code",
   "execution_count": 626,
   "metadata": {},
   "outputs": [],
   "source": [
    "import pulp as op\n",
    "import numpy as np\n",
    "import matplotlib.pyplot as plt\n",
    "import pandas as pd\n",
    "import seaborn as sns"
   ]
  },
  {
   "cell_type": "code",
   "execution_count": 627,
   "metadata": {},
   "outputs": [],
   "source": [
    "p = np.array([1,2,3]) #precios de las variedades.\n",
    "w = np.array([300,350,245]) #capacidad de siembra de los bancos.\n",
    "v = np.array([150,220,310]) # cantidades de variedades disponibles para sembrar.\n",
    "n = v.shape[0] #Cantidad de variedades.\n",
    "m = w.shape[0] #Cantidad de camas.\n",
    "L=np.array([[0,0,0]]) #Restricciones de NO compatibilidad por variedad.\n",
    "Q = np.array([0,1,2]) #Distribución de camas a bloques."
   ]
  },
  {
   "cell_type": "code",
   "execution_count": 631,
   "metadata": {},
   "outputs": [],
   "source": [
    "concat = lambda t,e : str(t)+str(e)\n",
    "beds = [concat(xt,xe) for xt,xe in zip(np.repeat(['Bed'],m*n),np.repeat(np.arange(1,m+1),n))]\n",
    "varieties = [concat(xt,xe) for xt,xe in zip(np.repeat(['_Var'],m*n),np.tile(np.arange(1,n+1),m))]\n",
    "bedsXvars = [concat(xt,xe) for xt,xe in zip(beds,varieties)]\n",
    "c=dict(zip(bedsXvars, np.tile(p,m)*np.repeat(w,n)))\n",
    "A=dict(zip(bedsXvars,np.repeat(w,n)))"
   ]
  },
  {
   "cell_type": "code",
   "execution_count": 632,
   "metadata": {},
   "outputs": [],
   "source": [
    "prob = op.LpProblem(\"Plannting_plan\",op.LpMaximize)\n",
    "beds = op.LpVariable.dicts(\"BedsVar\",bedsXvars,lowBound=0,upBound=1,cat=op.LpContinuous)\n",
    "prob += op.lpSum([c[i]*beds[i] for i in bedsXvars]) # Función de Costo, Precio de la variedad * X"
   ]
  },
  {
   "cell_type": "markdown",
   "metadata": {},
   "source": [
    "Restricción que representa la capacidad de los bancos por variedad"
   ]
  },
  {
   "cell_type": "code",
   "execution_count": 633,
   "metadata": {},
   "outputs": [],
   "source": [
    "for j in np.arange(0,n):\n",
    "    rTemp = np.zeros(m*n)\n",
    "    for h in np.arange(0,m):\n",
    "        p1 = np.zeros(j) #Cantidad de ceros adelante segun el indice de la cama\n",
    "        p2 = [w[h]] #Capacidad del banco\n",
    "        p3 = np.zeros(n-(j+1)) #\n",
    "        rTemp[h*n:(h*n)+n]=np.concatenate((p1,p2,p3))\n",
    "    r = dict(zip(bedsXvars,rTemp))\n",
    "    prob += op.lpSum([r[i]*beds[i] for i in bedsXvars])<=v[j] #Restricción del área de la siembra."
   ]
  },
  {
   "cell_type": "markdown",
   "metadata": {},
   "source": [
    "Restricción que representa que solo pueda sembrarse una variedad por cama"
   ]
  },
  {
   "cell_type": "code",
   "execution_count": 634,
   "metadata": {},
   "outputs": [],
   "source": [
    "for k in np.arange(0,m): #Se crea un restricción por cama.\n",
    "    p1 = np.zeros(k*n) #Cantidad de ceros adelante segun el indice de la cama\n",
    "    p2 = np.ones(n) #Cantidad de unos que representan la restriccion\n",
    "    p3 = np.zeros(((m*n)-((k*n)+n))) #cantidad de ceros al final\n",
    "    r = dict(zip(bedsXvars,np.concatenate((p1,p2,p3))))\n",
    "    prob += op.lpSum([r[i]*beds[i] for i in bedsXvars]) <= 1 #Restricción de máximo una variedad por cama."
   ]
  },
  {
   "cell_type": "code",
   "execution_count": 635,
   "metadata": {},
   "outputs": [],
   "source": [
    "q = np.unique(Q)\n",
    "qCount = [len((Q==xq).nonzero()[0]) for xq in q]\n",
    "f_zq = 0\n",
    "for c_qi in np.arange(0,len(q)):\n",
    "    qi=q[c_qi]\n",
    "    for li in L:\n",
    "        p1 = np.zeros(n*f_zq)\n",
    "        p2 = np.tile(li,qCount[c_qi])\n",
    "        p3 = np.zeros(n*(len(Q)-qCount[c_qi]-f_zq))\n",
    "        r = dict(zip(bedsXvars,np.concatenate((p1,p2,p3))))\n",
    "        prob += op.lpSum([r[i]*beds[i] for i in bedsXvars]) == 0\n",
    "    f_zq += qCount[c_qi]"
   ]
  },
  {
   "cell_type": "code",
   "execution_count": 636,
   "metadata": {},
   "outputs": [
    {
     "name": "stdout",
     "output_type": "stream",
     "text": [
      "Estado: Optimal\n",
      "Objetivo: 1520.0000060000002\n",
      "Vaiables:\n",
      "BedsVar_Bed1_Var2 = 0.41666667\n",
      "BedsVar_Bed2_Var3 = 0.88571429\n",
      "BedsVar_Bed3_Var1 = 0.6122449\n",
      "BedsVar_Bed3_Var2 = 0.3877551\n"
     ]
    }
   ],
   "source": [
    "prob.solve()\n",
    "print(\"Estado:\",op.LpStatus[prob.status])\n",
    "print(\"Objetivo:\",op.value(prob.objective))\n",
    "print(\"Vaiables:\")\n",
    "for va in prob.variables():\n",
    "    if va.varValue>0:\n",
    "        print(va.name, \"=\", va.varValue)"
   ]
  },
  {
   "cell_type": "code",
   "execution_count": 637,
   "metadata": {},
   "outputs": [
    {
     "data": {
      "text/plain": [
       "{'Bed1_Var1': BedsVar_Bed1_Var1,\n",
       " 'Bed1_Var2': BedsVar_Bed1_Var2,\n",
       " 'Bed1_Var3': BedsVar_Bed1_Var3,\n",
       " 'Bed2_Var1': BedsVar_Bed2_Var1,\n",
       " 'Bed2_Var2': BedsVar_Bed2_Var2,\n",
       " 'Bed2_Var3': BedsVar_Bed2_Var3,\n",
       " 'Bed3_Var1': BedsVar_Bed3_Var1,\n",
       " 'Bed3_Var2': BedsVar_Bed3_Var2,\n",
       " 'Bed3_Var3': BedsVar_Bed3_Var3}"
      ]
     },
     "execution_count": 637,
     "metadata": {},
     "output_type": "execute_result"
    }
   ],
   "source": [
    "beds"
   ]
  },
  {
   "cell_type": "code",
   "execution_count": 646,
   "metadata": {},
   "outputs": [
    {
     "data": {
      "image/png": "[encoded data removed]",
      "text/plain": [
       "<Figure size 720x504 with 1 Axes>"
      ]
     },
     "metadata": {
      "needs_background": "light"
     },
     "output_type": "display_data"
    }
   ],
   "source": [
    "plantingPlan = np.around((np.array([ x.varValue for x in prob.variables()]).reshape(m,n) * np.repeat(w,n).reshape(m,n)),decimals=0)\n",
    "bedsT = [concat(xt,xe) for xt,xe in zip(np.repeat(['Bed'],m),np.arange(1,m+1))]\n",
    "varsT = [concat(xt,xe) for xt,xe in zip(np.repeat(['Var'],m),np.arange(1,n+1))]\n",
    "df_cm = pd.DataFrame(plantingPlan,index=bedsT, columns=varsT)\n",
    "plt.figure(figsize = (10,7))\n",
    "sns.heatmap(df_cm, annot=True,fmt='.10g',cbar=False,cmap=sns.light_palette(\"green\"));"
   ]
  },
  {
   "cell_type": "markdown",
   "metadata": {},
   "source": [
    "Cantidades de Variedades Pendientes Por Sembrar\n"
   ]
  },
  {
   "cell_type": "code",
   "execution_count": 593,
   "metadata": {},
   "outputs": [
    {
     "data": {
      "text/plain": [
       "array([0., 0., 0., 0.])"
      ]
     },
     "execution_count": 593,
     "metadata": {},
     "output_type": "execute_result"
    }
   ],
   "source": [
    "v_Planted = np.sum(plantingPlan,axis=0)\n",
    "v-v_Planted"
   ]
  },
  {
   "cell_type": "markdown",
   "metadata": {},
   "source": [
    "Aréa disponible despues de la siembra"
   ]
  },
  {
   "cell_type": "code",
   "execution_count": 594,
   "metadata": {},
   "outputs": [
    {
     "data": {
      "text/plain": [
       "array([350., 325., 400., 400., 300., 200., 400., 400., 400.])"
      ]
     },
     "execution_count": 594,
     "metadata": {},
     "output_type": "execute_result"
    }
   ],
   "source": [
    "w_Planted = np.sum(plantingPlan,axis=1)\n",
    "w-w_Planted"
   ]
  },
  {
   "cell_type": "code",
   "execution_count": 647,
   "metadata": {},
   "outputs": [
    {
     "data": {
      "text/plain": [
       "Plannting_plan:\n",
       "MAXIMIZE\n",
       "300*BedsVar_Bed1_Var1 + 600*BedsVar_Bed1_Var2 + 900*BedsVar_Bed1_Var3 + 350*BedsVar_Bed2_Var1 + 700*BedsVar_Bed2_Var2 + 1050*BedsVar_Bed2_Var3 + 245*BedsVar_Bed3_Var1 + 490*BedsVar_Bed3_Var2 + 735*BedsVar_Bed3_Var3 + 0\n",
       "SUBJECT TO\n",
       "_C1: 300 BedsVar_Bed1_Var1 + 350 BedsVar_Bed2_Var1 + 245 BedsVar_Bed3_Var1\n",
       " <= 150\n",
       "\n",
       "_C2: 300 BedsVar_Bed1_Var2 + 350 BedsVar_Bed2_Var2 + 245 BedsVar_Bed3_Var2\n",
       " <= 220\n",
       "\n",
       "_C3: 300 BedsVar_Bed1_Var3 + 350 BedsVar_Bed2_Var3 + 245 BedsVar_Bed3_Var3\n",
       " <= 310\n",
       "\n",
       "_C4: BedsVar_Bed1_Var1 + BedsVar_Bed1_Var2 + BedsVar_Bed1_Var3 <= 1\n",
       "\n",
       "_C5: BedsVar_Bed2_Var1 + BedsVar_Bed2_Var2 + BedsVar_Bed2_Var3 <= 1\n",
       "\n",
       "_C6: BedsVar_Bed3_Var1 + BedsVar_Bed3_Var2 + BedsVar_Bed3_Var3 <= 1\n",
       "\n",
       "_C7:0 = 0\n",
       "\n",
       "_C8:0 = 0\n",
       "\n",
       "_C9:0 = 0\n",
       "\n",
       "VARIABLES\n",
       "BedsVar_Bed1_Var1 <= 1 Continuous\n",
       "BedsVar_Bed1_Var2 <= 1 Continuous\n",
       "BedsVar_Bed1_Var3 <= 1 Continuous\n",
       "BedsVar_Bed2_Var1 <= 1 Continuous\n",
       "BedsVar_Bed2_Var2 <= 1 Continuous\n",
       "BedsVar_Bed2_Var3 <= 1 Continuous\n",
       "BedsVar_Bed3_Var1 <= 1 Continuous\n",
       "BedsVar_Bed3_Var2 <= 1 Continuous\n",
       "BedsVar_Bed3_Var3 <= 1 Continuous"
      ]
     },
     "execution_count": 647,
     "metadata": {},
     "output_type": "execute_result"
    }
   ],
   "source": [
    "prob"
   ]
  },
  {
   "cell_type": "code",
   "execution_count": null,
   "metadata": {},
   "outputs": [],
   "source": []
  }
 ],
 "metadata": {
  "kernelspec": {
   "display_name": "Python 3",
   "language": "python",
   "name": "python3"
  },
  "language_info": {
   "codemirror_mode": {
    "name": "ipython",
    "version": 3
   },
   "file_extension": ".py",
   "mimetype": "text/x-python",
   "name": "python",
   "nbconvert_exporter": "python",
   "pygments_lexer": "ipython3",
   "version": "3.7.4"
  }
 },
 "nbformat": 4,
 "nbformat_minor": 4
}
