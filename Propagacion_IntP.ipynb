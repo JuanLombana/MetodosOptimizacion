{
 "cells": [
  {
   "cell_type": "code",
   "execution_count": 2,
   "metadata": {},
   "outputs": [
    {
     "name": "stdout",
     "output_type": "stream",
     "text": [
      "Collecting pulp\n",
      "  Downloading https://files.pythonhosted.org/packages/fb/34/ff5915ff6bae91cfb7c4cc22c3c369a6aea0b2127045dd5f308a91c260ac/PuLP-2.0-py3-none-any.whl (39.2MB)\n",
      "Requirement already satisfied: pyparsing>=2.0.1 in c:\\users\\juanlombana\\anaconda3\\lib\\site-packages (from pulp) (2.4.2)\n",
      "Installing collected packages: pulp\n",
      "Successfully installed pulp-2.0\n"
     ]
    }
   ],
   "source": [
    "!pip install pulp"
   ]
  },
  {
   "cell_type": "code",
   "execution_count": 208,
   "metadata": {},
   "outputs": [],
   "source": [
    "import pulp as op\n",
    "import numpy as np"
   ]
  },
  {
   "cell_type": "code",
   "execution_count": 216,
   "metadata": {},
   "outputs": [],
   "source": [
    "p = np.array([1,2,3]) #precios de las variedades.\n",
    "#B = np.array([[0,0,0],[0,0,0]]) #matriz binaria de camas por variedad sembrada.\n",
    "w = np.array([150,250,350,25,25,25,25,1000]) #capacidad de siembra de los bancos.\n",
    "v = np.array([173,350,100]) # cantidades de variedades disponibles para sembrar.\n",
    "n = v.shape[0] #Cantidad de variedades.\n",
    "m = w.shape[0] #Cantidad de camas.\n",
    "L=np.array([[0,0,0],[0,0,0]]) #Restricciones de NO compatibilidad por variedad."
   ]
  },
  {
   "cell_type": "code",
   "execution_count": 217,
   "metadata": {},
   "outputs": [],
   "source": [
    "concat = lambda t,e : str(t)+str(e)\n",
    "beds = [concat(xt,xe) for xt,xe in zip(np.repeat(['Bed'],m*n),np.repeat(np.arange(1,m+1),n))]\n",
    "varieties = [concat(xt,xe) for xt,xe in zip(np.repeat(['_Var'],m*n),np.tile(np.arange(1,n+1),m))]\n",
    "bedsXvars = [concat(xt,xe) for xt,xe in zip(beds,varieties)]\n",
    "c=dict(zip(bedsXvars, np.tile(p,m)*np.repeat(w,n)))\n",
    "A=dict(zip(bedsXvars,np.repeat(w,n)))"
   ]
  },
  {
   "cell_type": "code",
   "execution_count": 218,
   "metadata": {},
   "outputs": [],
   "source": [
    "prob = op.LpProblem(\"Plannting_plan\",op.LpMaximize)\n",
    "beds = op.LpVariable.dicts(\"BedsVar\",bedsXvars,lowBound=0,upBound=1,cat='Integer')\n",
    "prob += op.lpSum([c[i]*beds[i] for i in bedsXvars]) # Función de Costo, Precio de la variedad * X"
   ]
  },
  {
   "cell_type": "markdown",
   "metadata": {},
   "source": [
    "Restricción que representa la capacidad de los bancos por variedad"
   ]
  },
  {
   "cell_type": "code",
   "execution_count": 219,
   "metadata": {},
   "outputs": [],
   "source": [
    "for j in np.arange(0,n):\n",
    "    rTemp = np.zeros(m*n)\n",
    "    for h in np.arange(0,m):\n",
    "        p1 = np.zeros(j) #Cantidad de ceros adelante segun el indice de la cama\n",
    "        p2 = [w[h]] #Capacidad del banco\n",
    "        p3 = np.zeros(n-(j+1)) #\n",
    "        rTemp[h*n:(h*n)+3]=np.concatenate((p1,p2,p3))\n",
    "    r = dict(zip(bedsXvars,rTemp))\n",
    "    prob += op.lpSum([r[i]*beds[i] for i in bedsXvars])<=v[j]*1.1 #Restricción del área de la siembra."
   ]
  },
  {
   "cell_type": "markdown",
   "metadata": {},
   "source": [
    "Restricción que representa que solo pueda sembrarse una variedad por cama"
   ]
  },
  {
   "cell_type": "code",
   "execution_count": 220,
   "metadata": {},
   "outputs": [],
   "source": [
    "for j in np.arange(0,m): #Se crea un restricción por cama.\n",
    "    p1 = np.zeros(j*n) #Cantidad de ceros adelante segun el indice de la cama\n",
    "    p2 = np.ones(n) #Cantidad de unos que representan la restriccion\n",
    "    p3 = np.zeros(((m*n)-((j*n)+n))) #cantidad de ceros al final\n",
    "    r = dict(zip(bedsXvars,np.concatenate((p1,p2,p3))))\n",
    "    prob += op.lpSum([r[i]*beds[i] for i in bedsXvars]) <= 1 #Restricción de máximo una variedad por cama."
   ]
  },
  {
   "cell_type": "code",
   "execution_count": 221,
   "metadata": {},
   "outputs": [],
   "source": [
    "#for i in np.arange(0,L.shape[0]): #Se crea un restricción por cama.\n",
    "#    varCom = dict(zip(bedsXvars,np.tile(L[i],m)))\n",
    "#    prob += op.lpSum([varCom[i]*beds[i] for i in bedsXvars]) == 0 #Restricción de compatibilidad de flor por BLOQUE."
   ]
  },
  {
   "cell_type": "code",
   "execution_count": 222,
   "metadata": {},
   "outputs": [
    {
     "name": "stdout",
     "output_type": "stream",
     "text": [
      "Estado: Optimal\n",
      "Objetivo: 1150.0\n",
      "Vaiables:\n",
      "BedsVar_Bed1_Var1 = 1.0\n",
      "BedsVar_Bed3_Var2 = 1.0\n",
      "BedsVar_Bed4_Var3 = 1.0\n",
      "BedsVar_Bed5_Var3 = 1.0\n",
      "BedsVar_Bed6_Var3 = 1.0\n",
      "BedsVar_Bed7_Var3 = 1.0\n"
     ]
    }
   ],
   "source": [
    "prob.solve()\n",
    "print(\"Estado:\",op.LpStatus[prob.status])\n",
    "print(\"Objetivo:\",op.value(prob.objective))\n",
    "print(\"Vaiables:\")\n",
    "for v in prob.variables():\n",
    "    if v.varValue>0:\n",
    "        print(v.name, \"=\", v.varValue)"
   ]
  },
  {
   "cell_type": "code",
   "execution_count": 190,
   "metadata": {},
   "outputs": [
    {
     "data": {
      "text/plain": [
       "Plannting_plan:\n",
       "MAXIMIZE\n",
       "150*BedsVar_Bed1_Var1 + 300*BedsVar_Bed1_Var2 + 450*BedsVar_Bed1_Var3 + 250*BedsVar_Bed2_Var1 + 500*BedsVar_Bed2_Var2 + 750*BedsVar_Bed2_Var3 + 350*BedsVar_Bed3_Var1 + 700*BedsVar_Bed3_Var2 + 1050*BedsVar_Bed3_Var3 + 25*BedsVar_Bed4_Var1 + 50*BedsVar_Bed4_Var2 + 75*BedsVar_Bed4_Var3 + 25*BedsVar_Bed5_Var1 + 50*BedsVar_Bed5_Var2 + 75*BedsVar_Bed5_Var3 + 25*BedsVar_Bed6_Var1 + 50*BedsVar_Bed6_Var2 + 75*BedsVar_Bed6_Var3 + 25*BedsVar_Bed7_Var1 + 50*BedsVar_Bed7_Var2 + 75*BedsVar_Bed7_Var3 + 1000*BedsVar_Bed8_Var1 + 2000*BedsVar_Bed8_Var2 + 3000*BedsVar_Bed8_Var3 + 0\n",
       "SUBJECT TO\n",
       "_C1: 150 BedsVar_Bed1_Var1 + 250 BedsVar_Bed2_Var1 + 350 BedsVar_Bed3_Var1\n",
       " + 25 BedsVar_Bed4_Var1 + 25 BedsVar_Bed5_Var1 + 25 BedsVar_Bed6_Var1\n",
       " + 25 BedsVar_Bed7_Var1 + 1000 BedsVar_Bed8_Var1 <= 100\n",
       "\n",
       "_C2: 150 BedsVar_Bed1_Var2 + 250 BedsVar_Bed2_Var2 + 350 BedsVar_Bed3_Var2\n",
       " + 25 BedsVar_Bed4_Var2 + 25 BedsVar_Bed5_Var2 + 25 BedsVar_Bed6_Var2\n",
       " + 25 BedsVar_Bed7_Var2 + 1000 BedsVar_Bed8_Var2 <= 350\n",
       "\n",
       "_C3: 150 BedsVar_Bed1_Var3 + 250 BedsVar_Bed2_Var3 + 350 BedsVar_Bed3_Var3\n",
       " + 25 BedsVar_Bed4_Var3 + 25 BedsVar_Bed5_Var3 + 25 BedsVar_Bed6_Var3\n",
       " + 25 BedsVar_Bed7_Var3 + 1000 BedsVar_Bed8_Var3 <= 100\n",
       "\n",
       "_C4: BedsVar_Bed1_Var1 + BedsVar_Bed1_Var2 + BedsVar_Bed1_Var3 <= 1\n",
       "\n",
       "_C5: BedsVar_Bed2_Var1 + BedsVar_Bed2_Var2 + BedsVar_Bed2_Var3 <= 1\n",
       "\n",
       "_C6: BedsVar_Bed3_Var1 + BedsVar_Bed3_Var2 + BedsVar_Bed3_Var3 <= 1\n",
       "\n",
       "_C7: BedsVar_Bed4_Var1 + BedsVar_Bed4_Var2 + BedsVar_Bed4_Var3 <= 1\n",
       "\n",
       "_C8: BedsVar_Bed5_Var1 + BedsVar_Bed5_Var2 + BedsVar_Bed5_Var3 <= 1\n",
       "\n",
       "_C9: BedsVar_Bed6_Var1 + BedsVar_Bed6_Var2 + BedsVar_Bed6_Var3 <= 1\n",
       "\n",
       "_C10: BedsVar_Bed7_Var1 + BedsVar_Bed7_Var2 + BedsVar_Bed7_Var3 <= 1\n",
       "\n",
       "_C11: BedsVar_Bed8_Var1 + BedsVar_Bed8_Var2 + BedsVar_Bed8_Var3 <= 1\n",
       "\n",
       "VARIABLES\n",
       "0 <= BedsVar_Bed1_Var1 <= 1 Integer\n",
       "0 <= BedsVar_Bed1_Var2 <= 1 Integer\n",
       "0 <= BedsVar_Bed1_Var3 <= 1 Integer\n",
       "0 <= BedsVar_Bed2_Var1 <= 1 Integer\n",
       "0 <= BedsVar_Bed2_Var2 <= 1 Integer\n",
       "0 <= BedsVar_Bed2_Var3 <= 1 Integer\n",
       "0 <= BedsVar_Bed3_Var1 <= 1 Integer\n",
       "0 <= BedsVar_Bed3_Var2 <= 1 Integer\n",
       "0 <= BedsVar_Bed3_Var3 <= 1 Integer\n",
       "0 <= BedsVar_Bed4_Var1 <= 1 Integer\n",
       "0 <= BedsVar_Bed4_Var2 <= 1 Integer\n",
       "0 <= BedsVar_Bed4_Var3 <= 1 Integer\n",
       "0 <= BedsVar_Bed5_Var1 <= 1 Integer\n",
       "0 <= BedsVar_Bed5_Var2 <= 1 Integer\n",
       "0 <= BedsVar_Bed5_Var3 <= 1 Integer\n",
       "0 <= BedsVar_Bed6_Var1 <= 1 Integer\n",
       "0 <= BedsVar_Bed6_Var2 <= 1 Integer\n",
       "0 <= BedsVar_Bed6_Var3 <= 1 Integer\n",
       "0 <= BedsVar_Bed7_Var1 <= 1 Integer\n",
       "0 <= BedsVar_Bed7_Var2 <= 1 Integer\n",
       "0 <= BedsVar_Bed7_Var3 <= 1 Integer\n",
       "0 <= BedsVar_Bed8_Var1 <= 1 Integer\n",
       "0 <= BedsVar_Bed8_Var2 <= 1 Integer\n",
       "0 <= BedsVar_Bed8_Var3 <= 1 Integer"
      ]
     },
     "execution_count": 190,
     "metadata": {},
     "output_type": "execute_result"
    }
   ],
   "source": [
    "prob"
   ]
  },
  {
   "cell_type": "code",
   "execution_count": null,
   "metadata": {},
   "outputs": [],
   "source": []
  }
 ],
 "metadata": {
  "kernelspec": {
   "display_name": "Python 3",
   "language": "python",
   "name": "python3"
  },
  "language_info": {
   "codemirror_mode": {
    "name": "ipython",
    "version": 3
   },
   "file_extension": ".py",
   "mimetype": "text/x-python",
   "name": "python",
   "nbconvert_exporter": "python",
   "pygments_lexer": "ipython3",
   "version": "3.7.4"
  }
 },
 "nbformat": 4,
 "nbformat_minor": 2
}
