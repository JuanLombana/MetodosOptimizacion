{
 "cells": [
  {
   "cell_type": "code",
   "execution_count": 1,
   "metadata": {},
   "outputs": [],
   "source": [
    "import numpy as np\n",
    "import pulp as op\n",
    "import pandas as pd\n",
    "\n",
    "\n",
    "def allocatePlanting(p,w,v,L,Q)->(pd.DataFrame(),np.ndarray,np.ndarray,np.ndarray):\n",
    "    \"\"\"    \"\"\"\n",
    "    n = v.shape[0] #Cantidad de variedades.\n",
    "    m = w.shape[0] #Cantidad de camas.\n",
    "    concat = lambda t,e : str(t)+str(e)\n",
    "    beds = [concat(xt,xe) for xt,xe in zip(np.repeat(['Bed'],m*n),np.repeat(np.arange(1,m+1),n))]\n",
    "    varieties = [concat(xt,xe) for xt,xe in zip(np.repeat(['_Var'],m*n),np.tile(np.arange(1,n+1),m))]\n",
    "    bedsXvars = [concat(xt,xe) for xt,xe in zip(beds,varieties)]\n",
    "    c=dict(zip(bedsXvars, np.tile(p,m)*np.repeat(w,n)))\n",
    "    A=dict(zip(bedsXvars,np.repeat(w,n)))\n",
    "    ##Plantear el problema de optimización\n",
    "    prob = op.LpProblem(\"Plannting_plan\",op.LpMaximize)\n",
    "    beds = op.LpVariable.dicts(\"BedsVar\",bedsXvars,lowBound=0,upBound=1,cat=op.LpContinuous) #Variables de decisión (Cantidad de esquejes por cama)\n",
    "    prob += op.lpSum([c[i]*beds[i] for i in bedsXvars]) # Función de Costo, Precio de la variedad * X\n",
    "\n",
    "    #################\n",
    "    # RESTRICCIONES #\n",
    "    #################\n",
    "\n",
    "    #Capacidad de los bancos por variedad\n",
    "    for j in np.arange(0,n):\n",
    "        rTemp = np.zeros(m*n)\n",
    "        for h in np.arange(0,m):\n",
    "            p1 = np.zeros(j) #Cantidad de ceros adelante segun el indice de la cama\n",
    "            p2 = [w[h]] #Capacidad del banco\n",
    "            p3 = np.zeros(n-(j+1)) #\n",
    "            rTemp[h*n:(h*n)+n]=np.concatenate((p1,p2,p3))\n",
    "        r = dict(zip(bedsXvars,rTemp))\n",
    "        prob += op.lpSum([r[i]*beds[i] for i in bedsXvars])<=v[j] #Restricción del área de la siembra.\n",
    "    \n",
    "    #Solo puede sembrarse una variedad por cama.\n",
    "    for k in np.arange(0,m): #Se crea un restricción por cama.\n",
    "        p1 = np.zeros(k*n) #Cantidad de ceros adelante segun el indice de la cama\n",
    "        p2 = np.ones(n) #Cantidad de unos que representan la restriccion\n",
    "        p3 = np.zeros(((m*n)-((k*n)+n))) #cantidad de ceros al final\n",
    "        r = dict(zip(bedsXvars,np.concatenate((p1,p2,p3))))\n",
    "        prob += op.lpSum([r[i]*beds[i] for i in bedsXvars]) <= 1 #Restricción de máximo una variedad por cama.\n",
    "    \n",
    "    q = np.unique(Q)\n",
    "    qCount = [len((Q==xq).nonzero()[0]) for xq in q]\n",
    "    f_zq = 0\n",
    "    for c_qi in np.arange(0,len(q)):\n",
    "        qi=q[c_qi]\n",
    "        for li in L:\n",
    "            p1 = np.zeros(n*f_zq)\n",
    "            p2 = np.tile(li,qCount[c_qi])\n",
    "            p3 = np.zeros(n*(len(Q)-qCount[c_qi]-f_zq))\n",
    "            r = dict(zip(bedsXvars,np.concatenate((p1,p2,p3))))\n",
    "            prob += op.lpSum([r[i]*beds[i] for i in bedsXvars]) == 0\n",
    "        f_zq += qCount[c_qi]\n",
    "\n",
    "    #Solución al problema de optimización.\n",
    "    prob.solve()\n",
    "    \n",
    "    #print(\"Status:\",op.LpStatus[prob.status])\n",
    "    #print(\"Objective:\",op.value(prob.objective))\n",
    "    #for va in prob.variables():\n",
    "        #if va.varValue>0:\n",
    "            #print(va.name, \"=\", va.varValue)\n",
    "        \n",
    "    plantingPlan = np.around((np.array([ x.varValue for x in prob.variables()]) * np.repeat(w,n)),decimals=0)\n",
    "    bedsT = [concat(xt,xe) for xt,xe in zip(np.repeat(['Bed'],m),np.arange(1,m+1))]\n",
    "    varsT = [concat(xt,xe) for xt,xe in zip(np.repeat(['Var'],m),np.arange(1,n+1))]\n",
    "    \n",
    "    planShaped = plantingPlan.reshape(m,n)\n",
    "    \n",
    "    v_Planted = np.sum(planShaped,axis=0)\n",
    "    \n",
    "    w_Planted = np.sum(planShaped,axis=1)\n",
    "    \n",
    "    \n",
    "    return (pd.DataFrame(planShaped,index=bedsT, columns=varsT), v-v_Planted, w-w_Planted, plantingPlan)\n"
   ]
  },
  {
   "cell_type": "code",
   "execution_count": 2,
   "metadata": {},
   "outputs": [],
   "source": [
    "import requests\n",
    "import os\n",
    "import json\n",
    "import numpy as np\n",
    "\n",
    "def getWFEndpointsSEPEnabled()->np.ndarray:\n",
    "    \"\"\"Funcion que consulta LE API para validar las empresas que tienen el SEP habilitado.\"\"\"\n",
    "    \n",
    "    url = os.environ['LEServiceEndpoint']\n",
    "    params = {\n",
    "        \"Session\":{\n",
    "\t\t\"SessionId\":\"\",\n",
    "\t\t\"UserId\":\"\",\n",
    "\t\t\"SystemClientId\":\"\",\n",
    "\t\t\"InstanceCode\":\"\",\n",
    "\t\t\"Culture\":\"\"},\n",
    "        \"ServiceName\":\"BaseDataAccess\",\n",
    "        \"MethodName\":\"ExecuteProcedure\",\n",
    "        \"Params\":[{\"Name\":\"args\",\n",
    "                    \"Value\":{\n",
    "                        \"Name\":\"[System].[GetEndpointValueForAppSettingEnabled]\",\n",
    "                        \"Parameters\":[{\"Name\":\"SettingValue\",\"Value\":\"SEPAppEnabled\",\"SerializedValue\":\"true\",\"EncryptedValue\":\"true\",\"Direction\":0}]\n",
    "                        },\"Direction\":1,\"SerializedValue\":\"true\"\n",
    "                }],\n",
    "        \"FullName\":\"\",\n",
    "        \"Serialized\":\"true\",\n",
    "        \"SerializerType\":\"GloboStudio.Core.Serialization.JsonSerializer, GloboStudio.Core.Serialization\",\n",
    "        \"RequestID\":\"\"\n",
    "    }\n",
    "    r = requests.post(url=url,data=json.dumps(params))\n",
    "    return np.array(json.loads(r.json()['d'])['Value']['Data'][0]['Rows'])\n",
    "\n",
    "def getWFProjectedPlanting(url:str)->np.ndarray:\n",
    "    \"\"\"\n",
    "    Consulta las variedades con la necesidad de siembra ordenadas por el precio.\n",
    "    \n",
    "    Parameters:\n",
    "        url : (string) URL del servicio web en donde se ejecutará la consulta.\n",
    "    \"\"\"\n",
    "    params = {\n",
    "        \"Session\":{\n",
    "\t\t\"SessionId\":\"\",\n",
    "\t\t\"UserId\":\"\",\n",
    "\t\t\"SystemClientId\":\"\",\n",
    "\t\t\"InstanceCode\":\"\",\n",
    "\t\t\"Culture\":\"\"},\n",
    "        \"ServiceName\":\"BaseDataAccess\",\n",
    "        \"MethodName\":\"ExecuteProcedure\",\n",
    "        \"Params\":[{\"Name\":\"args\",\n",
    "                    \"Value\":{\n",
    "                        \"Name\":\"[dbo].[GetSEPProjectedPlanting]\",\n",
    "                        \"Parameters\":[]\n",
    "                        },\"Direction\":1,\"SerializedValue\":\"true\"\n",
    "                }],\n",
    "        \"FullName\":\"\",\n",
    "        \"Serialized\":\"true\",\n",
    "        \"SerializerType\":\"GloboStudio.Core.Serialization.JsonSerializer, GloboStudio.Core.Serialization\",\n",
    "        \"RequestID\":\"\"\n",
    "    }\n",
    "    r = requests.post(url=url,data=json.dumps(params))\n",
    "    return np.array(json.loads(r.json()['d'])['Value']['Data'][0]['Rows'])\n",
    "\n",
    "def getWFBedsForPlanting(url:str)->np.ndarray:\n",
    "    \"\"\"\n",
    "    Consulta los bancos que están disponibles para la siembra.\n",
    "    \n",
    "    Parameters:\n",
    "        url : (string) URL del servicio web en donde se ejecutará la consulta.\n",
    "    \"\"\"\n",
    "    params = {\n",
    "        \"Session\":{\n",
    "\t\t\"SessionId\":\"\",\n",
    "\t\t\"UserId\":\"\",\n",
    "\t\t\"SystemClientId\":\"\",\n",
    "\t\t\"InstanceCode\":\"\",\n",
    "\t\t\"Culture\":\"\"},\n",
    "        \"ServiceName\":\"BaseDataAccess\",\n",
    "        \"MethodName\":\"ExecuteProcedure\",\n",
    "        \"Params\":[{\"Name\":\"args\",\n",
    "                    \"Value\":{\n",
    "                        \"Name\":\"[dbo].[GetSEPBedsForPlanting]\",\n",
    "                        \"Parameters\":[]\n",
    "                        },\"Direction\":1,\"SerializedValue\":\"true\"\n",
    "                }],\n",
    "        \"FullName\":\"\",\n",
    "        \"Serialized\":\"true\",\n",
    "        \"SerializerType\":\"GloboStudio.Core.Serialization.JsonSerializer, GloboStudio.Core.Serialization\",\n",
    "        \"RequestID\":\"\"\n",
    "    }\n",
    "    r = requests.post(url=url,data=json.dumps(params))\n",
    "    return np.array(json.loads(r.json()['d'])['Value']['Data'][0]['Rows'])\n",
    "\n",
    "def updateWFPlantingSuggestion(url:str, data:str)->np.ndarray:\n",
    "    \"\"\"\n",
    "    Actualiza la estructura de sugerencia de siembra usada en SEP\n",
    "    \n",
    "    Parameters:\n",
    "        url : (string) URL del servicio web en donde se ejecutará la consulta.\n",
    "    \"\"\"\n",
    "    params = {\n",
    "        \"Session\":{\n",
    "\t\t\"SessionId\":\"\",\n",
    "\t\t\"UserId\":\"\",\n",
    "\t\t\"SystemClientId\":\"\",\n",
    "\t\t\"InstanceCode\":\"\",\n",
    "\t\t\"Culture\":\"\"},\n",
    "        \"ServiceName\":\"BaseDataAccess\",\n",
    "        \"MethodName\":\"ExecuteProcedure\",\n",
    "        \"Params\":[{\"Name\":\"args\",\n",
    "                    \"Value\":{\n",
    "                        \"Name\":\"[dbo].[UpdateSEPPlantingSuggestion]\",\n",
    "                        \"Parameters\":[{\"Name\":\"SuggestionData\",\"Value\":data,\"SerializedValue\":\"true\",\"EncryptedValue\":\"true\",\"Direction\":0}]\n",
    "                        },\"Direction\":1,\"SerializedValue\":\"true\"\n",
    "                }],\n",
    "        \"FullName\":\"\",\n",
    "        \"Serialized\":\"true\",\n",
    "        \"SerializerType\":\"GloboStudio.Core.Serialization.JsonSerializer, GloboStudio.Core.Serialization\",\n",
    "        \"RequestID\":\"\"\n",
    "    }\n",
    "    r = requests.post(url=url,data=json.dumps(params))\n",
    "    return np.array(json.loads(r.json()['d'])['Value']['Data'][0]['Rows'])"
   ]
  },
  {
   "cell_type": "code",
   "execution_count": 3,
   "metadata": {},
   "outputs": [],
   "source": [
    "companyURL = 'http://webflowerspruebasqf.azurewebsites.net/winwebservices/WinWebServiceCommand.svc/ExecuteCommandStream'"
   ]
  },
  {
   "cell_type": "code",
   "execution_count": 4,
   "metadata": {},
   "outputs": [],
   "source": [
    "vTEMP = getWFProjectedPlanting(companyURL)\n",
    "wTEMP = getWFBedsForPlanting(companyURL)"
   ]
  },
  {
   "cell_type": "code",
   "execution_count": 5,
   "metadata": {},
   "outputs": [
    {
     "data": {
      "text/plain": [
       "array([['6915', '001:01:01:1', '001', '1125.0'],\n",
       "       ['6917', '001:01:01:2', '001', '1125.0'],\n",
       "       ['6919', '001:01:01:3', '001', '1125.0'],\n",
       "       ['6921', '001:01:01:4', '001', '1125.0'],\n",
       "       ['6923', '001:01:01:5', '001', '1125.0'],\n",
       "       ['6925', '001:01:01:6', '001', '1125.0']], dtype='<U11')"
      ]
     },
     "execution_count": 5,
     "metadata": {},
     "output_type": "execute_result"
    }
   ],
   "source": [
    "wTEMP"
   ]
  },
  {
   "cell_type": "code",
   "execution_count": 6,
   "metadata": {},
   "outputs": [
    {
     "data": {
      "text/plain": [
       "array([[  406, 22500,     1]])"
      ]
     },
     "execution_count": 6,
     "metadata": {},
     "output_type": "execute_result"
    }
   ],
   "source": [
    "vTEMP"
   ]
  },
  {
   "cell_type": "code",
   "execution_count": 7,
   "metadata": {},
   "outputs": [],
   "source": [
    "p = vTEMP[:,2].astype(int)\n",
    "v = vTEMP[:,1].astype(float)\n",
    "w = wTEMP[:,3].astype(float)\n",
    "L = np.array([])\n",
    "Q = wTEMP[:,2]"
   ]
  },
  {
   "cell_type": "code",
   "execution_count": 8,
   "metadata": {},
   "outputs": [],
   "source": [
    "allocation, v_pending, w_free, plan = allocatePlanting(p,w,v,L,Q)"
   ]
  },
  {
   "cell_type": "code",
   "execution_count": 9,
   "metadata": {},
   "outputs": [],
   "source": [
    "f = np.zeros(len(plan)*3).reshape((len(plan),3))\n",
    "f[:,0]=np.repeat(wTEMP[:,0],len(vTEMP)).astype(str)\n",
    "f[:,1]=np.tile(vTEMP[:,0],len(wTEMP)).astype(str)\n",
    "f[:,2]=plan"
   ]
  },
  {
   "cell_type": "code",
   "execution_count": 10,
   "metadata": {},
   "outputs": [
    {
     "data": {
      "text/plain": [
       "array([], dtype=float64)"
      ]
     },
     "execution_count": 10,
     "metadata": {},
     "output_type": "execute_result"
    }
   ],
   "source": [
    "updateWFPlantingSuggestion(companyURL,json.dumps(f.tolist()))"
   ]
  },
  {
   "cell_type": "code",
   "execution_count": 11,
   "metadata": {},
   "outputs": [
    {
     "data": {
      "text/plain": [
       "array([[6915.,  406., 1125.],\n",
       "       [6917.,  406., 1125.],\n",
       "       [6919.,  406., 1125.],\n",
       "       [6921.,  406., 1125.],\n",
       "       [6923.,  406., 1125.],\n",
       "       [6925.,  406., 1125.]])"
      ]
     },
     "execution_count": 11,
     "metadata": {},
     "output_type": "execute_result"
    }
   ],
   "source": [
    "f"
   ]
  },
  {
   "cell_type": "code",
   "execution_count": null,
   "metadata": {},
   "outputs": [],
   "source": []
  }
 ],
 "metadata": {
  "kernelspec": {
   "display_name": "Python 3",
   "language": "python",
   "name": "python3"
  },
  "language_info": {
   "codemirror_mode": {
    "name": "ipython",
    "version": 3
   },
   "file_extension": ".py",
   "mimetype": "text/x-python",
   "name": "python",
   "nbconvert_exporter": "python",
   "pygments_lexer": "ipython3",
   "version": "3.7.4"
  }
 },
 "nbformat": 4,
 "nbformat_minor": 4
}
