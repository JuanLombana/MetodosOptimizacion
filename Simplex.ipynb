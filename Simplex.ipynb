{
 "cells": [
  {
   "cell_type": "code",
   "execution_count": 7,
   "metadata": {},
   "outputs": [],
   "source": [
    "import numpy as np\n",
    "import numpy.linalg as npl"
   ]
  },
  {
   "cell_type": "markdown",
   "metadata": {},
   "source": [
    "## Problema Inicial"
   ]
  },
  {
   "cell_type": "code",
   "execution_count": 8,
   "metadata": {},
   "outputs": [],
   "source": [
    "c=np.array([[-20],[-30],[0],[0]])\n",
    "A = np.array([[1,1,1,0],[0.1,0.2,0,1]])\n",
    "b = np.array([[100],[14]])\n",
    "\n",
    "sbfi = np.array([False,False,True,True])"
   ]
  },
  {
   "cell_type": "code",
   "execution_count": 9,
   "metadata": {},
   "outputs": [
    {
     "name": "stdout",
     "output_type": "stream",
     "text": [
      "------- ITERATION : 0 ---------\n",
      "B: \n",
      "[[1. 0.]\n",
      " [0. 1.]]\n",
      "N: \n",
      "[[1.  1. ]\n",
      " [0.1 0.2]]\n",
      "xb: \n",
      "[[100.]\n",
      " [ 14.]]\n",
      "----------------\n",
      "------- ITERATION : 1 ---------\n",
      "B: \n",
      "[[1.  1. ]\n",
      " [0.  0.2]]\n",
      "N: \n",
      "[[1.  0. ]\n",
      " [0.1 1. ]]\n",
      "xb: \n",
      "[[30.]\n",
      " [70.]]\n",
      "----------------\n",
      "------- ITERATION : 2 ---------\n",
      "B: \n",
      "[[1.  1. ]\n",
      " [0.1 0.2]]\n",
      "N: \n",
      "[[1. 0.]\n",
      " [0. 1.]]\n",
      "xb: \n",
      "[[30.]\n",
      " [70.]]\n",
      "--------END--------\n"
     ]
    }
   ],
   "source": [
    "sbf = sbfi\n",
    "r=(sbf==False)\n",
    "B = np.copy(A[:,sbf])\n",
    "N = np.copy(A[:,r])\n",
    "cB=np.copy(c[sbf])\n",
    "cN=np.copy(c[r])\n",
    "BInv=npl.inv(B)\n",
    "pT=cN.T-np.dot(cB.T,np.matmul(BInv,N))\n",
    "index_sbf = np.argwhere(sbf).T[0]\n",
    "index_r = np.argwhere(r).T[0]\n",
    "print('------- ITERATION : 0 ---------')\n",
    "print('B: \\r\\n'+str(B))\n",
    "print('N: \\r\\n'+str(N))\n",
    "itera = 1\n",
    "while(len(pT[pT<0]) > 0):\n",
    "    xb = np.dot(BInv,b)\n",
    "    print('xb: \\r\\n' + str(xb))\n",
    "    print('----------------')\n",
    "    colN=np.argmin(pT)\n",
    "    y = np.dot(BInv,N[:,colN])\n",
    "    colB = np.argmin(xb.T[0]/y)\n",
    "    newB = np.copy(B)\n",
    "    newB[:,colB] = N[:,colN]\n",
    "    newN = np.copy(N)\n",
    "    newN[:,colN] = B[:,colB]\n",
    "    B = np.copy(newB)\n",
    "    N = np.copy(newN)\n",
    "    print('------- ITERATION : '+str(itera)+' ---------')\n",
    "    print('B: \\r\\n'+str(B))\n",
    "    print('N: \\r\\n'+str(N))\n",
    "    sbf[index_r[colN]]=True\n",
    "    sbf[index_sbf[colB]]=False\n",
    "    r=(sbf==False)\n",
    "    new_cB = np.copy(cB)\n",
    "    new_cB[colB,0]= cN[colN,0]\n",
    "    new_cN = np.copy(cN)\n",
    "    new_cN[colN,0]= cB[colB,0]\n",
    "    cB = np.copy(new_cB)\n",
    "    cN = np.copy(new_cN)\n",
    "    BInv=npl.inv(B)\n",
    "    pT=cN.T-np.dot(cB.T,np.matmul(BInv,N))\n",
    "    index_sbf = np.argwhere(sbf).T[0]\n",
    "    index_r = np.argwhere(r).T[0]\n",
    "    itera=itera+1\n",
    "print('xb: \\r\\n' + str(xb))\n",
    "print('--------END--------')"
   ]
  },
  {
   "cell_type": "code",
   "execution_count": null,
   "metadata": {},
   "outputs": [],
   "source": []
  }
 ],
 "metadata": {
  "kernelspec": {
   "display_name": "Python 3",
   "language": "python",
   "name": "python3"
  },
  "language_info": {
   "codemirror_mode": {
    "name": "ipython",
    "version": 3
   },
   "file_extension": ".py",
   "mimetype": "text/x-python",
   "name": "python",
   "nbconvert_exporter": "python",
   "pygments_lexer": "ipython3",
   "version": "3.7.4"
  }
 },
 "nbformat": 4,
 "nbformat_minor": 2
}
