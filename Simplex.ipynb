{
 "cells": [
  {
   "cell_type": "code",
   "execution_count": 1,
   "metadata": {},
   "outputs": [],
   "source": [
    "import numpy as np\n",
    "import numpy.linalg as npl"
   ]
  },
  {
   "cell_type": "markdown",
   "metadata": {},
   "source": [
    "## Problema Inicial"
   ]
  },
  {
   "cell_type": "code",
   "execution_count": 4,
   "metadata": {},
   "outputs": [],
   "source": [
    "c=np.array([[-20],[-30],[0],[0]])\n",
    "A = np.array([[1,1,1,0],[0.1,0.2,0,1]])\n",
    "b = np.array([[100],[14]])\n",
    "\n",
    "sbfi = np.array([False,False,True,True])"
   ]
  },
  {
   "cell_type": "code",
   "execution_count": null,
   "metadata": {},
   "outputs": [],
   "source": [
    "sbf = sbfi\n",
    "r=(sbf==False)\n",
    "B = np.copy(A[:,sbf])\n",
    "N = np.copy(A[:,r])\n",
    "cB=np.copy(c[sbf])\n",
    "cN =np.copy(c[r])\n",
    "BInv=npl.inv(B)\n",
    "pT=cN.T-(np.dot(cB.T,np.dot(BInv,N)))\n",
    "index_sbf = np.argwhere(sbf).T[0]\n",
    "index_r = np.argwhere(r).T[0]\n",
    "print('B: \\r\\n'+str(B))\n",
    "print('N: \\r\\n'+str(N))\n",
    "while(len(pT[pT<0]) > 0):\n",
    "    xb = np.dot(BInv,b)\n",
    "    colInN=np.argmin(pT)\n",
    "    y = np.dot(BInv,N[:,colInN])\n",
    "    colOutB = np.argmin(xb.T[0]/y)\n",
    "    tempB = np.copy(B)\n",
    "    tempB[:,colOutB] = N[:,colInN]\n",
    "    tempN = np.copy(N)\n",
    "    tempN[:,colInN] = B[:,colOutB]\n",
    "    B = np.copy(tempB)\n",
    "    N = np.copy(tempN)\n",
    "    print('B: \\r\\n'+str(B))\n",
    "    print('N: \\r\\n'+str(N))\n",
    "    z=np.sum()\n",
    "    print('Z='+str())\n",
    "    sbf[index_r[colInN]]=True\n",
    "    sbf[index_sbf[colOutB]]=False\n",
    "    r=(sbf==False)\n",
    "    cB=np.copy(c[sbf])\n",
    "    cN =np.copy(c[r])\n",
    "    BInv=npl.inv(B)\n",
    "    pT=cN.T-(np.dot(cB.T,np.dot(BInv,N)))\n",
    "    index_sbf = np.argwhere(sbf).T[0]\n",
    "    index_r = np.argwhere(r).T[0]"
   ]
  },
  {
   "cell_type": "code",
   "execution_count": null,
   "metadata": {},
   "outputs": [],
   "source": []
  }
 ],
 "metadata": {
  "kernelspec": {
   "display_name": "Python 3",
   "language": "python",
   "name": "python3"
  },
  "language_info": {
   "codemirror_mode": {
    "name": "ipython",
    "version": 3
   },
   "file_extension": ".py",
   "mimetype": "text/x-python",
   "name": "python",
   "nbconvert_exporter": "python",
   "pygments_lexer": "ipython3",
   "version": "3.7.4"
  }
 },
 "nbformat": 4,
 "nbformat_minor": 2
}
