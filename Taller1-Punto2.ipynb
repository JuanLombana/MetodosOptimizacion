{
 "cells": [
  {
   "cell_type": "markdown",
   "metadata": {},
   "source": [
    "# Punto 2"
   ]
  },
  {
   "cell_type": "markdown",
   "metadata": {},
   "source": [
    "![123](images/punto2.png \"ab\")"
   ]
  },
  {
   "cell_type": "code",
   "execution_count": 1,
   "metadata": {},
   "outputs": [],
   "source": [
    "import numpy as np\n",
    "import optimization.simplex as opt_s"
   ]
  },
  {
   "cell_type": "code",
   "execution_count": 2,
   "metadata": {},
   "outputs": [
    {
     "name": "stdout",
     "output_type": "stream",
     "text": [
      "------- ITERATION : 0 ---------\n",
      "B: \n",
      "[[ 1 -1  1]\n",
      " [-1  1  0]\n",
      " [ 1  1  0]]\n",
      "N: \n",
      "[[0 0]\n",
      " [1 0]\n",
      " [0 1]]\n",
      "pT: \n",
      "[[ 1000. 16000.]]\n",
      "x: \n",
      "[1 2 3]\n",
      "xb: \n",
      "[[ 23.]\n",
      " [ 17.]\n",
      " [-14.]]\n",
      "Z: -634000.0\n",
      "--------END--------\n"
     ]
    }
   ],
   "source": [
    "c=np.array([[-15000],[-17000],[0],[0],[0]])\n",
    "A = np.array([[1,-1,1,0,0],[-1,1,0,1,0],[1,1,0,0,1]])\n",
    "b = np.array([[-8],[-6],[40]])\n",
    "\n",
    "sbfi = np.array([True,True,True,False,False])\n",
    "opt_s.optimize_simplex(c,A,b,sbfi)"
   ]
  },
  {
   "cell_type": "code",
   "execution_count": null,
   "metadata": {},
   "outputs": [],
   "source": []
  }
 ],
 "metadata": {
  "kernelspec": {
   "display_name": "Python 3",
   "language": "python",
   "name": "python3"
  },
  "language_info": {
   "codemirror_mode": {
    "name": "ipython",
    "version": 3
   },
   "file_extension": ".py",
   "mimetype": "text/x-python",
   "name": "python",
   "nbconvert_exporter": "python",
   "pygments_lexer": "ipython3",
   "version": "3.7.4"
  }
 },
 "nbformat": 4,
 "nbformat_minor": 2
}
